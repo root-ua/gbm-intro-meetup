{
 "cells": [
  {
   "cell_type": "code",
   "execution_count": null,
   "metadata": {},
   "outputs": [],
   "source": [
    "import numpy as np\n",
    "import pandas as pd\n",
    "\n",
    "# Import cross-validation functions\n",
    "from sklearn.model_selection import KFold, train_test_split, cross_val_score\n",
    "\n",
    "# Import One-Hot encoder\n",
    "from sklearn.preprocessing import OneHotEncoder\n",
    "\n",
    "# Import evaluation metrics\n",
    "from sklearn.metrics import mean_squared_error, mean_absolute_error, r2_score\n",
    "\n",
    "# Import XGBoost library\n",
    "import xgboost as xgb"
   ]
  },
  {
   "cell_type": "code",
   "execution_count": 2,
   "metadata": {
    "collapsed": true
   },
   "outputs": [],
   "source": [
    "# Read the dataset from CSV file\n",
    "df = pd.read_csv('./datasets/cars_dataset.csv', low_memory=False)"
   ]
  },
  {
   "cell_type": "code",
   "execution_count": 3,
   "metadata": {},
   "outputs": [
    {
     "data": {
      "text/plain": [
       "195928"
      ]
     },
     "execution_count": 3,
     "metadata": {},
     "output_type": "execute_result"
    }
   ],
   "source": [
    "# Dataset size\n",
    "len(df)"
   ]
  },
  {
   "cell_type": "code",
   "execution_count": 4,
   "metadata": {
    "collapsed": true
   },
   "outputs": [],
   "source": [
    "# Define features to use for predictions and target variable\n",
    "target_variable = 'price'\n",
    "categorical_features = ['make', 'model', 'trim', 'year', 'transmission']\n",
    "numerical_features = ['kilometers', 'age_years']\n",
    "all_features = categorical_features + numerical_features"
   ]
  },
  {
   "cell_type": "code",
   "execution_count": 5,
   "metadata": {},
   "outputs": [
    {
     "data": {
      "text/html": [
       "<div>\n",
       "<table border=\"1\" class=\"dataframe\">\n",
       "  <thead>\n",
       "    <tr style=\"text-align: right;\">\n",
       "      <th></th>\n",
       "      <th>make</th>\n",
       "      <th>model</th>\n",
       "      <th>trim</th>\n",
       "      <th>year</th>\n",
       "      <th>transmission</th>\n",
       "      <th>kilometers</th>\n",
       "      <th>age_years</th>\n",
       "    </tr>\n",
       "  </thead>\n",
       "  <tbody>\n",
       "    <tr>\n",
       "      <th>0</th>\n",
       "      <td>volkswagen</td>\n",
       "      <td>touareg</td>\n",
       "      <td>sel</td>\n",
       "      <td>2014</td>\n",
       "      <td>automatic</td>\n",
       "      <td>29000</td>\n",
       "      <td>3.0</td>\n",
       "    </tr>\n",
       "    <tr>\n",
       "      <th>1</th>\n",
       "      <td>ford</td>\n",
       "      <td>focus</td>\n",
       "      <td>trend</td>\n",
       "      <td>2014</td>\n",
       "      <td>automatic</td>\n",
       "      <td>23000</td>\n",
       "      <td>3.0</td>\n",
       "    </tr>\n",
       "    <tr>\n",
       "      <th>2</th>\n",
       "      <td>kia</td>\n",
       "      <td>rio</td>\n",
       "      <td>ex</td>\n",
       "      <td>2015</td>\n",
       "      <td>automatic</td>\n",
       "      <td>40000</td>\n",
       "      <td>2.0</td>\n",
       "    </tr>\n",
       "    <tr>\n",
       "      <th>3</th>\n",
       "      <td>dodge</td>\n",
       "      <td>challenger</td>\n",
       "      <td>other</td>\n",
       "      <td>2013</td>\n",
       "      <td>automatic</td>\n",
       "      <td>28000</td>\n",
       "      <td>4.0</td>\n",
       "    </tr>\n",
       "    <tr>\n",
       "      <th>4</th>\n",
       "      <td>hyundai</td>\n",
       "      <td>veloster</td>\n",
       "      <td>other</td>\n",
       "      <td>2013</td>\n",
       "      <td>automatic</td>\n",
       "      <td>120000</td>\n",
       "      <td>4.0</td>\n",
       "    </tr>\n",
       "  </tbody>\n",
       "</table>\n",
       "</div>"
      ],
      "text/plain": [
       "         make       model   trim  year transmission  kilometers  age_years\n",
       "0  volkswagen     touareg    sel  2014    automatic       29000        3.0\n",
       "1        ford       focus  trend  2014    automatic       23000        3.0\n",
       "2         kia         rio     ex  2015    automatic       40000        2.0\n",
       "3       dodge  challenger  other  2013    automatic       28000        4.0\n",
       "4     hyundai    veloster  other  2013    automatic      120000        4.0"
      ]
     },
     "execution_count": 5,
     "metadata": {},
     "output_type": "execute_result"
    }
   ],
   "source": [
    "# Show subsample of the dataset\n",
    "df[all_features].head(5)"
   ]
  },
  {
   "cell_type": "code",
   "execution_count": 6,
   "metadata": {},
   "outputs": [],
   "source": [
    "# Perform One-Hot encoding on categorical features\n",
    "final_df = pd.get_dummies(data=df[all_features + [target_variable]], \n",
    "                          columns=categorical_features, \n",
    "                          prefix=categorical_features)"
   ]
  },
  {
   "cell_type": "code",
   "execution_count": 7,
   "metadata": {},
   "outputs": [],
   "source": [
    "# Get the final list of features, except target variable\n",
    "oh_features = final_df.columns.tolist()\n",
    "oh_features.remove(target_variable)"
   ]
  },
  {
   "cell_type": "code",
   "execution_count": 8,
   "metadata": {},
   "outputs": [],
   "source": [
    "# Split dataset into two subsets: 80% of the data for training, 20% for model testing\n",
    "X_train, X_test, y_train, y_test = train_test_split(final_df[oh_features], \n",
    "                                                    final_df[[target_variable]], \n",
    "                                                    test_size=0.2, random_state=70)"
   ]
  },
  {
   "cell_type": "code",
   "execution_count": 9,
   "metadata": {},
   "outputs": [
    {
     "name": "stdout",
     "output_type": "stream",
     "text": [
      " Training set size: 156742 \n",
      " Test set size: 39186\n"
     ]
    }
   ],
   "source": [
    "print(' Training set size: %d \\n Test set size: %d' % (len(X_train), len(X_test)))"
   ]
  },
  {
   "cell_type": "code",
   "execution_count": 10,
   "metadata": {
    "collapsed": true
   },
   "outputs": [],
   "source": [
    "# Initialize XGBoost regressor\n",
    "regressor = xgb.XGBRegressor(n_estimators=500, max_depth=5)"
   ]
  },
  {
   "cell_type": "code",
   "execution_count": 11,
   "metadata": {},
   "outputs": [
    {
     "data": {
      "text/plain": [
       "XGBRegressor(base_score=0.5, colsample_bylevel=1, colsample_bytree=1, gamma=0,\n",
       "       learning_rate=0.1, max_delta_step=0, max_depth=5,\n",
       "       min_child_weight=1, missing=None, n_estimators=500, nthread=-1,\n",
       "       objective='reg:linear', reg_alpha=0, reg_lambda=1,\n",
       "       scale_pos_weight=1, seed=0, silent=True, subsample=1)"
      ]
     },
     "execution_count": 11,
     "metadata": {},
     "output_type": "execute_result"
    }
   ],
   "source": [
    "# Fit the model\n",
    "regressor.fit(X_train, y_train)"
   ]
  },
  {
   "cell_type": "code",
   "execution_count": 12,
   "metadata": {
    "collapsed": true
   },
   "outputs": [],
   "source": [
    "# Predict prices in a test dataset\n",
    "predictions = regressor.predict(X_test)"
   ]
  },
  {
   "cell_type": "code",
   "execution_count": 13,
   "metadata": {},
   "outputs": [
    {
     "name": "stdout",
     "output_type": "stream",
     "text": [
      "Mean squared error = 1176143117.425487\n"
     ]
    }
   ],
   "source": [
    "# Mean Squared Error\n",
    "mse = mean_squared_error(y_test, predictions)\n",
    "print('Mean squared error = {0:.6f}'.format(mse))"
   ]
  },
  {
   "cell_type": "code",
   "execution_count": 14,
   "metadata": {},
   "outputs": [
    {
     "name": "stdout",
     "output_type": "stream",
     "text": [
      "Mean absolute error = 17162.403842\n"
     ]
    }
   ],
   "source": [
    "# Mean Absolute Error\n",
    "mae = mean_absolute_error(y_test, predictions)\n",
    "print('Mean absolute error = {0:.6f}'.format(mae))"
   ]
  },
  {
   "cell_type": "code",
   "execution_count": 15,
   "metadata": {},
   "outputs": [
    {
     "name": "stdout",
     "output_type": "stream",
     "text": [
      "R^2 score (explained variance): 0.923917\n"
     ]
    }
   ],
   "source": [
    "# R^2 score: 1 means that all predictions are perfect\n",
    "r2_score = regressor.score(X_test, y_test)\n",
    "print('R^2 score (explained variance): {0:.6f}'.format(r2_score))"
   ]
  }
 ],
 "metadata": {
  "kernelspec": {
   "display_name": "Python 3",
   "language": "python",
   "name": "python3"
  },
  "language_info": {
   "codemirror_mode": {
    "name": "ipython",
    "version": 3
   },
   "file_extension": ".py",
   "mimetype": "text/x-python",
   "name": "python",
   "nbconvert_exporter": "python",
   "pygments_lexer": "ipython3",
   "version": "3.6.1"
  }
 },
 "nbformat": 4,
 "nbformat_minor": 2
}
